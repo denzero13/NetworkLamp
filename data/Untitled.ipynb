{
 "cells": [
  {
   "cell_type": "code",
   "execution_count": null,
   "id": "063059f4",
   "metadata": {},
   "outputs": [],
   "source": [
    "import pandas as pd"
   ]
  },
  {
   "cell_type": "code",
   "execution_count": null,
   "id": "37892c43",
   "metadata": {},
   "outputs": [],
   "source": [
    " df_json = pd.read_json(\"devices.json\")"
   ]
  },
  {
   "cell_type": "code",
   "execution_count": null,
   "id": "5b35bcb8",
   "metadata": {},
   "outputs": [],
   "source": [
    "df_json.columns"
   ]
  },
  {
   "cell_type": "code",
   "execution_count": null,
   "id": "9f310c58",
   "metadata": {},
   "outputs": [],
   "source": [
    "df = df_json.to_csv(\"final.csv\", index=False)"
   ]
  },
  {
   "cell_type": "code",
   "execution_count": null,
   "id": "9fc5eded",
   "metadata": {},
   "outputs": [],
   "source": [
    "df = pd.read_csv(\"final.csv\")"
   ]
  },
  {
   "cell_type": "code",
   "execution_count": null,
   "id": "c6d2c5cd",
   "metadata": {},
   "outputs": [],
   "source": [
    "df.columns"
   ]
  },
  {
   "cell_type": "code",
   "execution_count": null,
   "id": "04e71ff3",
   "metadata": {},
   "outputs": [],
   "source": [
    "from http.server import CGIHTTPRequestHandler, HTTPServer\n",
    "\n",
    "handler = CGIHTTPRequestHandler\n",
    "handler.cgi_directories = ['/cgi-bin', '/htbin']  # this is the default\n",
    "server = HTTPServer(('localhost', 8123), handler)\n",
    "server.serve_forever()"
   ]
  },
  {
   "cell_type": "code",
   "execution_count": null,
   "id": "948501e2",
   "metadata": {},
   "outputs": [],
   "source": []
  }
 ],
 "metadata": {
  "kernelspec": {
   "display_name": "Python 3",
   "language": "python",
   "name": "python3"
  },
  "language_info": {
   "codemirror_mode": {
    "name": "ipython",
    "version": 3
   },
   "file_extension": ".py",
   "mimetype": "text/x-python",
   "name": "python",
   "nbconvert_exporter": "python",
   "pygments_lexer": "ipython3",
   "version": "3.9.6"
  }
 },
 "nbformat": 4,
 "nbformat_minor": 5
}
